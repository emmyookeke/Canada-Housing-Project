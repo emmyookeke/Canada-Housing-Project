{
 "cells": [
  {
   "cell_type": "code",
   "execution_count": 4,
   "metadata": {},
   "outputs": [
    {
     "name": "stdout",
     "output_type": "stream",
     "text": [
      " * Serving Flask app '__main__'\n",
      " * Debug mode: off\n"
     ]
    },
    {
     "name": "stderr",
     "output_type": "stream",
     "text": [
      "WARNING: This is a development server. Do not use it in a production deployment. Use a production WSGI server instead.\n",
      " * Running on http://127.0.0.1:5000\n",
      "Press CTRL+C to quit\n"
     ]
    }
   ],
   "source": [
    "from flask import Flask, render_template\n",
    "from threading import Thread\n",
    "from kafka import KafkaConsumer\n",
    "import json\n",
    " \n",
    "app = Flask(__name__)\n",
    " \n",
    "# Kafka Consumer setup\n",
    "consumer = KafkaConsumer('housing_data', bootstrap_servers=['localhost:9092'],\n",
    "                         value_deserializer=lambda x: json.loads(x.decode('utf-8')))\n",
    " \n",
    "def consume_messages():\n",
    "    market_data = []\n",
    " \n",
    "    # Consume messages from Kafka topic\n",
    "    for message in consumer:\n",
    "        market_data.append(message.value)\n",
    "        if len(market_data) >= 10:\n",
    "            break\n",
    " \n",
    "    return market_data\n",
    " \n",
    "@app.route('/')\n",
    "def index():\n",
    "    market_data = consume_messages()\n",
    "    return render_template(\"index.html\", market_data=market_data)\n",
    "   \n",
    "\n",
    "if __name__ == '__main__':\n",
    "    try:\n",
    "        app.run(debug=False)\n",
    "    except Exception as e:\n",
    "        print(\"An error occurred:\", str(e))"
   ]
  }
 ],
 "metadata": {
  "kernelspec": {
   "display_name": "Python 3",
   "language": "python",
   "name": "python3"
  },
  "language_info": {
   "codemirror_mode": {
    "name": "ipython",
    "version": 3
   },
   "file_extension": ".py",
   "mimetype": "text/x-python",
   "name": "python",
   "nbconvert_exporter": "python",
   "pygments_lexer": "ipython3",
   "version": "3.11.5"
  }
 },
 "nbformat": 4,
 "nbformat_minor": 2
}
