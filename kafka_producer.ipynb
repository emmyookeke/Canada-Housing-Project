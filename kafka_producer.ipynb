{
 "cells": [
  {
   "cell_type": "code",
   "execution_count": 1,
   "metadata": {},
   "outputs": [],
   "source": [
    "from time import sleep\n",
    "from json import dumps\n",
    "from kafka import KafkaProducer\n",
    "import pandas as pd\n",
    "\n",
    "# Load housing market data from CSV\n",
    "housing_data = pd.read_csv('data\\housing_data.csv')\n",
    "housing_records = housing_data.to_dict(orient='records')\n",
    "\n",
    "def publish_messages():\n",
    "    producer = KafkaProducer(bootstrap_servers=['localhost:9092'],\n",
    "                             value_serializer=lambda x: dumps(x).encode('utf-8'))\n",
    "\n",
    "    topic = 'housing_data'\n",
    "\n",
    "    for record in housing_records:\n",
    "        producer.send(topic, value=record)\n",
    "        sleep(1)  # Simulate delay between messages (adjust as needed)\n",
    "\n",
    "    producer.flush()\n",
    "    print(\"Messages published successfully.\")\n",
    "\n",
    "if __name__ == \"__main__\":\n",
    "    publish_messages()\n"
   ]
  },
  {
   "cell_type": "code",
   "execution_count": 2,
   "metadata": {},
   "outputs": [
    {
     "name": "stdout",
     "output_type": "stream",
     "text": [
      "Collecting kafka-python\n",
      "  Downloading kafka_python-2.0.2-py2.py3-none-any.whl.metadata (7.8 kB)\n",
      "Downloading kafka_python-2.0.2-py2.py3-none-any.whl (246 kB)\n",
      "   ---------------------------------------- 0.0/246.5 kB ? eta -:--:--\n",
      "   ---------------------------------------- 0.0/246.5 kB ? eta -:--:--\n",
      "   ---------------------------------------- 0.0/246.5 kB ? eta -:--:--\n",
      "   - -------------------------------------- 10.2/246.5 kB ? eta -:--:--\n",
      "   ------ -------------------------------- 41.0/246.5 kB 393.8 kB/s eta 0:00:01\n",
      "   -------------- ------------------------ 92.2/246.5 kB 581.0 kB/s eta 0:00:01\n",
      "   ---------------------------------------  245.8/246.5 kB 1.4 MB/s eta 0:00:01\n",
      "   ---------------------------------------- 246.5/246.5 kB 1.2 MB/s eta 0:00:00\n",
      "Installing collected packages: kafka-python\n",
      "Successfully installed kafka-python-2.0.2\n",
      "Note: you may need to restart the kernel to use updated packages.\n"
     ]
    }
   ],
   "source": [
    "pip install kafka-python"
   ]
  },
  {
   "cell_type": "code",
   "execution_count": 2,
   "metadata": {},
   "outputs": [
    {
     "name": "stdout",
     "output_type": "stream",
     "text": [
      "Collecting kafkaNote: you may need to restart the kernel to use updated packages.\n",
      "\n",
      "  Downloading kafka-1.3.5-py2.py3-none-any.whl.metadata (6.9 kB)\n",
      "Downloading kafka-1.3.5-py2.py3-none-any.whl (207 kB)\n",
      "   ---------------------------------------- 0.0/207.2 kB ? eta -:--:--\n",
      "   ---------------------------------------- 0.0/207.2 kB ? eta -:--:--\n",
      "   - -------------------------------------- 10.2/207.2 kB ? eta -:--:--\n",
      "   - -------------------------------------- 10.2/207.2 kB ? eta -:--:--\n",
      "   ----- --------------------------------- 30.7/207.2 kB 217.9 kB/s eta 0:00:01\n",
      "   ----------- --------------------------- 61.4/207.2 kB 363.1 kB/s eta 0:00:01\n",
      "   ---------------------------- --------- 153.6/207.2 kB 762.6 kB/s eta 0:00:01\n",
      "   -------------------------------------- 207.2/207.2 kB 899.3 kB/s eta 0:00:00\n",
      "Installing collected packages: kafka\n",
      "Successfully installed kafka-1.3.5\n"
     ]
    }
   ],
   "source": [
    "pip install kafka"
   ]
  }
 ],
 "metadata": {
  "kernelspec": {
   "display_name": "Python 3",
   "language": "python",
   "name": "python3"
  },
  "language_info": {
   "codemirror_mode": {
    "name": "ipython",
    "version": 3
   },
   "file_extension": ".py",
   "mimetype": "text/x-python",
   "name": "python",
   "nbconvert_exporter": "python",
   "pygments_lexer": "ipython3",
   "version": "3.11.5"
  }
 },
 "nbformat": 4,
 "nbformat_minor": 2
}
